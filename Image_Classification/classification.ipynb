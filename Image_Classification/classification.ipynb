{
 "cells": [
  {
   "cell_type": "code",
   "execution_count": 1,
   "metadata": {},
   "outputs": [],
   "source": [
    "## get descriptor\n",
    "\n",
    "import os\n",
    "import numpy as np\n",
    "\n",
    "mpeg7_path = '.\\mpeg7fex_win32_v2\\MPEG7Fex.exe'\n",
    "\n",
    "type_dict = {\n",
    "    'CSD':'128',\n",
    "    'SCD':'128'\n",
    "}\n",
    "\n",
    "def get_mpeg7_descriptor(imagePath, featureType='CSD', featureParameters='64'):\n",
    "    imageListFile = 'input.txt'\n",
    "    outputFile = 'output.txt'\n",
    "\n",
    "    with open(imageListFile,'w') as f:\n",
    "        f.write(imagePath)\n",
    "    stream = os.popen(f'{mpeg7_path} {featureType} {featureParameters} {imageListFile} {outputFile}')\n",
    "    stream.read()\n",
    "    with open(outputFile,'r') as f:\n",
    "        lines = np.array([line.strip().split() for line in f.readlines()])\n",
    "    # print(lines)\n",
    "    return lines[0,1:].astype(int)"
   ]
  },
  {
   "cell_type": "code",
   "execution_count": 2,
   "metadata": {},
   "outputs": [
    {
     "name": "stdout",
     "output_type": "stream",
     "text": [
      "1651 1686 1651 1686\n"
     ]
    }
   ],
   "source": [
    "## load data\n",
    "\n",
    "train_num = 2000\n",
    "test_num = 200\n",
    "\n",
    "from pathlib import Path\n",
    "dataset_path = Path('..\\VOCtrainval_11-May-2012\\VOCdevkit\\VOC2012')\n",
    "label_path = os.path.join(dataset_path,'ImageSets','Main')\n",
    "img_path = os.path.join(dataset_path,'JPEGImages')\n",
    "\n",
    "def read_label(filePath):\n",
    "    with open(filePath,'r') as f:\n",
    "        lines = np.array([line.strip().split() for line in f.readlines()])\n",
    "    return dict(zip(lines[:,0],lines[:,1].astype(int)))\n",
    "\n",
    "cat_train = read_label(os.path.join(label_path,'cat_train.txt'))\n",
    "dog_train = read_label(os.path.join(label_path,'dog_train.txt'))\n",
    "cat_val = read_label(os.path.join(label_path,'cat_val.txt'))\n",
    "dog_val = read_label(os.path.join(label_path,'dog_val.txt'))\n",
    "\n",
    "train_list = list(set(cat_train.keys())|set(dog_train.keys()))\n",
    "test_list = list(set(cat_val.keys())|set(dog_val.keys()))\n",
    "\n",
    "train_label = []\n",
    "for img in train_list:\n",
    "    if img in cat_train.keys() and cat_train[img] == 1:\n",
    "        train_label.append(1)\n",
    "    elif img in dog_train.keys() and dog_train[img] == 1:\n",
    "        train_label.append(2)\n",
    "    else:\n",
    "        train_label.append(0)\n",
    "train_label = np.array(train_label)\n",
    "    \n",
    "test_label = []\n",
    "for img in test_list:\n",
    "    if img in cat_val.keys() and cat_val[img] == 1:\n",
    "        test_label.append(1)\n",
    "    elif img in dog_val.keys() and dog_val[img] == 1:\n",
    "        test_label.append(2)\n",
    "    else:\n",
    "        test_label.append(0)\n",
    "test_label = np.array(test_label)\n",
    "\n",
    "train_list = np.concatenate([np.array(train_list)[train_label==1],\n",
    "                            np.array(train_list)[train_label==2],\n",
    "                            np.array(train_list)[train_label==0][:500]])\n",
    "train_label = np.sum(train_label==1) * [1] + np.sum(train_label==2) * [2] + 500 * [0]\n",
    "\n",
    "test_list = np.concatenate([np.array(test_list)[test_label==1],\n",
    "                            np.array(test_list)[test_label==2],\n",
    "                            np.array(test_list)[test_label==0][:500]])\n",
    "test_label = np.sum(test_label==1) * [1] + np.sum(test_label==2) * [2] + 500 * [0]\n",
    "\n",
    "test_paths = [os.path.join(img_path,path+'.jpg') for path in test_list]\n",
    "train_paths = [os.path.join(img_path,path+'.jpg') for path in train_list]\n",
    "    \n",
    "print(len(train_list),len(test_list),len(train_label),len(test_label))"
   ]
  },
  {
   "cell_type": "code",
   "execution_count": 3,
   "metadata": {},
   "outputs": [
    {
     "name": "stderr",
     "output_type": "stream",
     "text": [
      "100%|██████████| 1651/1651 [02:46<00:00,  9.92it/s]\n",
      "100%|██████████| 1686/1686 [02:46<00:00, 10.11it/s]\n"
     ]
    },
    {
     "name": "stdout",
     "output_type": "stream",
     "text": [
      "The svm model with CSD feature accuracy is: 0.4851720047449585 f1_score is: 0.4851720047449585\n"
     ]
    },
    {
     "name": "stderr",
     "output_type": "stream",
     "text": [
      "100%|██████████| 1651/1651 [02:29<00:00, 11.04it/s]\n",
      "100%|██████████| 1686/1686 [02:32<00:00, 11.02it/s]\n"
     ]
    },
    {
     "name": "stdout",
     "output_type": "stream",
     "text": [
      "The tree model with CSD feature accuracy is: 0.4246737841043891 f1_score is: 0.4246737841043891\n"
     ]
    },
    {
     "name": "stderr",
     "output_type": "stream",
     "text": [
      "100%|██████████| 1651/1651 [02:18<00:00, 11.92it/s]\n",
      "100%|██████████| 1686/1686 [02:21<00:00, 11.94it/s]\n"
     ]
    },
    {
     "name": "stdout",
     "output_type": "stream",
     "text": [
      "The svm model with SCD feature accuracy is: 0.4389086595492289 f1_score is: 0.4389086595492289\n"
     ]
    },
    {
     "name": "stderr",
     "output_type": "stream",
     "text": [
      "100%|██████████| 1651/1651 [02:17<00:00, 11.97it/s]\n",
      "100%|██████████| 1686/1686 [02:21<00:00, 11.91it/s]"
     ]
    },
    {
     "name": "stdout",
     "output_type": "stream",
     "text": [
      "The tree model with SCD feature accuracy is: 0.3819691577698695 f1_score is: 0.3819691577698695\n"
     ]
    },
    {
     "name": "stderr",
     "output_type": "stream",
     "text": [
      "\n"
     ]
    }
   ],
   "source": [
    "## test \n",
    "\n",
    "from tqdm import tqdm\n",
    "from sklearn import svm\n",
    "from sklearn.tree import DecisionTreeClassifier\n",
    "from sklearn.metrics import accuracy_score,f1_score\n",
    "\n",
    "model_dict= {\n",
    "    'svm':svm.SVC,\n",
    "    'tree':DecisionTreeClassifier\n",
    "}\n",
    "\n",
    "for kt,vt in type_dict.items():\n",
    "    for km,vm in model_dict.items():\n",
    "\n",
    "        train_features = []\n",
    "        for path in tqdm(train_paths):\n",
    "            train_feature = get_mpeg7_descriptor(path,featureType=kt,featureParameters=vt)\n",
    "            train_features.append(train_feature)\n",
    "            tqdm._instances.clear()\n",
    "\n",
    "        train_features = np.array(train_features)\n",
    "        # print(train_features.shape)\n",
    "\n",
    "        test_features = []\n",
    "        for path in tqdm(test_paths):\n",
    "            test_feature = get_mpeg7_descriptor(path,featureType=kt,featureParameters=vt)\n",
    "            test_features.append(test_feature)\n",
    "            tqdm._instances.clear()\n",
    "\n",
    "        test_features = np.array(test_features)\n",
    "        # print(test_features.shape)\n",
    "\n",
    "        model = vm()\n",
    "        model.fit(train_features,train_label)\n",
    "\n",
    "        y_pred = model.predict(test_features)\n",
    "        print(f\"The {km} model with {kt} feature accuracy is:\",accuracy_score(y_pred,test_label),\n",
    "            'f1_score is:',f1_score(y_pred,test_label,average='micro'))"
   ]
  }
 ],
 "metadata": {
  "interpreter": {
   "hash": "d9326bbb10e24cc29245ad980ccad81edafea8bb5f2ea66ccd630d7b222cc275"
  },
  "kernelspec": {
   "display_name": "Python 3.7.11 64-bit ('pytorch': conda)",
   "name": "python3"
  },
  "language_info": {
   "codemirror_mode": {
    "name": "ipython",
    "version": 3
   },
   "file_extension": ".py",
   "mimetype": "text/x-python",
   "name": "python",
   "nbconvert_exporter": "python",
   "pygments_lexer": "ipython3",
   "version": "3.7.11"
  },
  "orig_nbformat": 4
 },
 "nbformat": 4,
 "nbformat_minor": 2
}
